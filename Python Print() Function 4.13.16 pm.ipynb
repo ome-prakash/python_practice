{
 "cells": [
  {
   "cell_type": "markdown",
   "id": "0537e21c-ca00-42a1-a130-9a7530a6a444",
   "metadata": {},
   "source": [
    "# **Python Print() Function**"
   ]
  },
  {
   "cell_type": "code",
   "execution_count": 3,
   "id": "07efd35c-4706-408a-abbd-5d1289bdd1c4",
   "metadata": {},
   "outputs": [
    {
     "name": "stdout",
     "output_type": "stream",
     "text": [
      "Hello World\n"
     ]
    }
   ],
   "source": [
    "print(\"Hello World\")"
   ]
  },
  {
   "cell_type": "code",
   "execution_count": 4,
   "id": "a33ef3ac-615f-4d3c-ab9a-479ecb11820e",
   "metadata": {},
   "outputs": [
    {
     "name": "stdout",
     "output_type": "stream",
     "text": [
      "Hello, I'm Sakshi Tanwar\n"
     ]
    }
   ],
   "source": [
    "print(\"Hello, I'm Sakshi Tanwar\")"
   ]
  },
  {
   "cell_type": "code",
   "execution_count": 5,
   "id": "fb7c14a5-6dfb-4024-9828-b162c771b476",
   "metadata": {},
   "outputs": [
    {
     "name": "stdout",
     "output_type": "stream",
     "text": [
      "Name: Sakshi Tanwar\n",
      "Role: Data Scientist, CSE Engineer, Web Designer\n"
     ]
    }
   ],
   "source": [
    "print(\"Name: Sakshi Tanwar\")\n",
    "print(\"Role: Data Scientist, CSE Engineer, Web Designer\")\n"
   ]
  },
  {
   "cell_type": "code",
   "execution_count": 6,
   "id": "fcfd8f2e-68a6-4127-9309-90850783be3a",
   "metadata": {},
   "outputs": [
    {
     "name": "stdout",
     "output_type": "stream",
     "text": [
      "Graduation: B.Tech(CSE)\n"
     ]
    }
   ],
   "source": [
    "print(\"Graduation: B.Tech(CSE)\")"
   ]
  },
  {
   "cell_type": "code",
   "execution_count": 7,
   "id": "66537592-f248-4a5d-ad72-7282d7d9dc9d",
   "metadata": {},
   "outputs": [
    {
     "name": "stdout",
     "output_type": "stream",
     "text": [
      "I Am From Haryana\n"
     ]
    }
   ],
   "source": [
    "print(\"I Am From Haryana\")"
   ]
  },
  {
   "cell_type": "code",
   "execution_count": 8,
   "id": "d5d21a28-c607-4567-b0bf-d01d43e86ff6",
   "metadata": {},
   "outputs": [
    {
     "name": "stdout",
     "output_type": "stream",
     "text": [
      "I speak my mind, not to offend, but to express my truth fearlessly\n"
     ]
    }
   ],
   "source": [
    "print(\"I speak my mind, not to offend, but to express my truth fearlessly\")"
   ]
  },
  {
   "cell_type": "code",
   "execution_count": 9,
   "id": "77ae5226-1b34-44b8-a95c-fe081dbd4a0a",
   "metadata": {},
   "outputs": [
    {
     "name": "stdout",
     "output_type": "stream",
     "text": [
      "I am not defined by anyone else; my strength comes from within\n"
     ]
    }
   ],
   "source": [
    "print(\"I am not defined by anyone else; my strength comes from within\")"
   ]
  },
  {
   "cell_type": "code",
   "execution_count": 10,
   "id": "afd62d70-8c76-4f93-b587-982df93e901d",
   "metadata": {},
   "outputs": [
    {
     "name": "stdout",
     "output_type": "stream",
     "text": [
      "I know my worth, and I won't settle for anything less than what I deserve.\n"
     ]
    }
   ],
   "source": [
    "print(\"I know my worth, and I won't settle for anything less than what I deserve.\")"
   ]
  }
 ],
 "metadata": {
  "kernelspec": {
   "display_name": "Python 3 (ipykernel)",
   "language": "python",
   "name": "python3"
  },
  "language_info": {
   "codemirror_mode": {
    "name": "ipython",
    "version": 3
   },
   "file_extension": ".py",
   "mimetype": "text/x-python",
   "name": "python",
   "nbconvert_exporter": "python",
   "pygments_lexer": "ipython3",
   "version": "3.11.7"
  }
 },
 "nbformat": 4,
 "nbformat_minor": 5
}
