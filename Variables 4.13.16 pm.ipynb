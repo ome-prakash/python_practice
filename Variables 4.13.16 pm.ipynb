{
 "cells": [
  {
   "cell_type": "markdown",
   "id": "0537e21c-ca00-42a1-a130-9a7530a6a444",
   "metadata": {},
   "source": [
    "# **Variables**"
   ]
  },
  {
   "cell_type": "code",
   "execution_count": 1,
   "id": "93f143d4-5a35-48fd-8798-677cd0712bce",
   "metadata": {},
   "outputs": [
    {
     "data": {
      "text/plain": [
       "(10, 5)"
      ]
     },
     "execution_count": 1,
     "metadata": {},
     "output_type": "execute_result"
    }
   ],
   "source": [
    "# 1. Swapping Values\n",
    "def swap_values(a, b):\n",
    "    a, b = b, a\n",
    "    return a, b\n",
    "\n",
    "# Test the function\n",
    "a, b = 5, 10\n",
    "swap_values(a, b)\n"
   ]
  },
  {
   "cell_type": "code",
   "execution_count": 2,
   "id": "3ced98e4-2f70-4014-a856-76fa7009b071",
   "metadata": {},
   "outputs": [
    {
     "data": {
      "text/plain": [
       "str"
      ]
     },
     "execution_count": 2,
     "metadata": {},
     "output_type": "execute_result"
    }
   ],
   "source": [
    "# 2. Finding the Type\n",
    "def find_type(var):\n",
    "    return type(var)\n",
    "\n",
    "# Test the function\n",
    "find_type(42)  # Example with an integer\n",
    "find_type(\"Hello\")  # Example with a string\n"
   ]
  },
  {
   "cell_type": "code",
   "execution_count": 3,
   "id": "bcef10b4-3b3e-43d0-b54c-05c5b067c8b4",
   "metadata": {},
   "outputs": [
    {
     "name": "stdout",
     "output_type": "stream",
     "text": [
      "Inside inner_function:\n",
      "Global variable: I am global\n",
      "Local variable: I am local\n",
      "Inside variable_scope_demo:\n",
      "Global variable: I am global\n"
     ]
    }
   ],
   "source": [
    "# 3. Variable Scope\n",
    "def variable_scope_demo():\n",
    "    global_var = \"I am global\"\n",
    "    def inner_function():\n",
    "        local_var = \"I am local\"\n",
    "        print(\"Inside inner_function:\")\n",
    "        print(\"Global variable:\", global_var)\n",
    "        print(\"Local variable:\", local_var)\n",
    "    inner_function()\n",
    "    print(\"Inside variable_scope_demo:\")\n",
    "    print(\"Global variable:\", global_var)\n",
    "    # The following line will raise an error if uncommented:\n",
    "    # print(\"Local variable:\", local_var)\n",
    "\n",
    "variable_scope_demo()\n"
   ]
  },
  {
   "cell_type": "code",
   "execution_count": 4,
   "id": "8917875a-009d-4ccb-9be1-52da2f4f8e26",
   "metadata": {},
   "outputs": [
    {
     "data": {
      "text/plain": [
       "('123', str)"
      ]
     },
     "execution_count": 4,
     "metadata": {},
     "output_type": "execute_result"
    }
   ],
   "source": [
    "# 4. Type Conversion\n",
    "def int_to_str(number):\n",
    "    str_number = str(number)\n",
    "    return str_number, type(str_number)\n",
    "\n",
    "# Test the function\n",
    "int_to_str(123)\n"
   ]
  },
  {
   "cell_type": "code",
   "execution_count": 5,
   "id": "41849327-e9bf-463e-b6f5-5ac5f165721b",
   "metadata": {},
   "outputs": [
    {
     "data": {
      "text/plain": [
       "([1, 2, 3, 4], (1, 2, 3))"
      ]
     },
     "execution_count": 5,
     "metadata": {},
     "output_type": "execute_result"
    }
   ],
   "source": [
    "# 5. Mutable vs Immutable\n",
    "def mutable_vs_immutable(lst, tpl):\n",
    "    lst.append(4)  # Modify mutable list\n",
    "    # Tuples are immutable, so this will raise an error if uncommented\n",
    "    # tpl[0] = 5\n",
    "    return lst, tpl\n",
    "\n",
    "# Test the function\n",
    "mutable_vs_immutable([1, 2, 3], (1, 2, 3))\n"
   ]
  },
  {
   "cell_type": "code",
   "execution_count": 6,
   "id": "4046e153-3f2d-44c9-b005-299b82adeeef",
   "metadata": {},
   "outputs": [
    {
     "data": {
      "text/plain": [
       "(42, 42, 42)"
      ]
     },
     "execution_count": 6,
     "metadata": {},
     "output_type": "execute_result"
    }
   ],
   "source": [
    "# 6. Variable Assignment\n",
    "def multiple_assignments(value):\n",
    "    a = b = c = value\n",
    "    return a, b, c\n",
    "\n",
    "# Test the function\n",
    "multiple_assignments(42)\n"
   ]
  },
  {
   "cell_type": "code",
   "execution_count": 8,
   "id": "deeccddf-917e-456f-87ea-74678fdf49c0",
   "metadata": {},
   "outputs": [
    {
     "data": {
      "text/plain": [
       "'rawnaTihskaS'"
      ]
     },
     "execution_count": 8,
     "metadata": {},
     "output_type": "execute_result"
    }
   ],
   "source": [
    "# 7. String Manipulation\n",
    "def reverse_string(s):\n",
    "    reversed_str = s[::-1]\n",
    "    return reversed_str\n",
    "\n",
    "# Test the function\n",
    "reverse_string(\"SakshiTanwar\")\n"
   ]
  },
  {
   "cell_type": "code",
   "execution_count": 9,
   "id": "1824c04d-cdb4-4622-9987-5da636ec6b16",
   "metadata": {},
   "outputs": [
    {
     "data": {
      "text/plain": [
       "'Data Scientist'"
      ]
     },
     "execution_count": 9,
     "metadata": {},
     "output_type": "execute_result"
    }
   ],
   "source": [
    "# 8. Concatenation\n",
    "def concatenate_strings(str1, str2):\n",
    "    concatenated = str1 + \" \" + str2\n",
    "    return concatenated\n",
    "\n",
    "# Test the function\n",
    "concatenate_strings(\"Data\", \"Scientist\")\n"
   ]
  },
  {
   "cell_type": "code",
   "execution_count": 10,
   "id": "6f4b8650-e708-404c-bf5c-95fc6fb5a084",
   "metadata": {},
   "outputs": [
    {
     "data": {
      "text/plain": [
       "10"
      ]
     },
     "execution_count": 10,
     "metadata": {},
     "output_type": "execute_result"
    }
   ],
   "source": [
    "# 9. Default Argument Values\n",
    "def sum_with_defaults(a=5, b=10):\n",
    "    return a + b\n",
    "\n",
    "# Test the function\n",
    "sum_with_defaults()  # Uses default values\n",
    "sum_with_defaults(3, 7)  # Uses provided values\n"
   ]
  },
  {
   "cell_type": "code",
   "execution_count": 11,
   "id": "f2b6cdb4-fa35-4fc0-9bc8-5aad5095904c",
   "metadata": {},
   "outputs": [
    {
     "data": {
      "text/plain": [
       "'My name is Sakshi and I am 25 years old.'"
      ]
     },
     "execution_count": 11,
     "metadata": {},
     "output_type": "execute_result"
    }
   ],
   "source": [
    "# 10. String Formatting\n",
    "def format_sentence(name, age):\n",
    "    sentence = f\"My name is {name} and I am {age} years old.\"\n",
    "    return sentence\n",
    "\n",
    "# Test the function\n",
    "format_sentence(\"Sakshi\", 25)\n"
   ]
  },
  {
   "cell_type": "code",
   "execution_count": null,
   "id": "42c65c0d-a36d-420d-9bb0-372aae7b8b9f",
   "metadata": {},
   "outputs": [],
   "source": []
  }
 ],
 "metadata": {
  "kernelspec": {
   "display_name": "Python 3 (ipykernel)",
   "language": "python",
   "name": "python3"
  },
  "language_info": {
   "codemirror_mode": {
    "name": "ipython",
    "version": 3
   },
   "file_extension": ".py",
   "mimetype": "text/x-python",
   "name": "python",
   "nbconvert_exporter": "python",
   "pygments_lexer": "ipython3",
   "version": "3.11.7"
  }
 },
 "nbformat": 4,
 "nbformat_minor": 5
}
