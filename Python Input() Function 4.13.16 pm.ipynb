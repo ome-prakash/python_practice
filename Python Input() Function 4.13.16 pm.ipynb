{
 "cells": [
  {
   "cell_type": "markdown",
   "id": "0537e21c-ca00-42a1-a130-9a7530a6a444",
   "metadata": {},
   "source": [
    "# **Python Input() Function**"
   ]
  },
  {
   "cell_type": "code",
   "execution_count": 1,
   "id": "25160306-bf83-4d3a-b6ed-661bdc012de0",
   "metadata": {},
   "outputs": [
    {
     "name": "stdin",
     "output_type": "stream",
     "text": [
      "Enter your name:  Sakshi Tanwar\n"
     ]
    },
    {
     "name": "stdout",
     "output_type": "stream",
     "text": [
      "Sakshi Tanwar\n"
     ]
    }
   ],
   "source": [
    "name = input(\"Enter your name: \")\n",
    "print(name)\n",
    "\n"
   ]
  },
  {
   "cell_type": "code",
   "execution_count": 3,
   "id": "1dd8c6e0-ea6d-4d97-8754-b2eda4743be0",
   "metadata": {},
   "outputs": [
    {
     "name": "stdin",
     "output_type": "stream",
     "text": [
      "Enter your favourite color: Orange\n"
     ]
    },
    {
     "name": "stdout",
     "output_type": "stream",
     "text": [
      "Your favourite color is Orange.\n"
     ]
    }
   ],
   "source": [
    "favourite_color = input(\"Enter your favourite color:\")\n",
    "print(f\"Your favourite color is {favourite_color}.\")"
   ]
  },
  {
   "cell_type": "code",
   "execution_count": 6,
   "id": "9bb58409-c79c-416d-bf19-13e373c5bd6a",
   "metadata": {},
   "outputs": [
    {
     "name": "stdin",
     "output_type": "stream",
     "text": [
      "Enter the first number:  1000\n",
      "Enter the second number:  1298\n"
     ]
    },
    {
     "name": "stdout",
     "output_type": "stream",
     "text": [
      "The product is 1298000\n"
     ]
    }
   ],
   "source": [
    "# Multiply two numbers input by the user\n",
    "num1 = int(input(\"Enter the first number: \"))\n",
    "num2 = int(input(\"Enter the second number: \"))\n",
    "product = num1 * num2\n",
    "print(f\"The product is {product}\")\n"
   ]
  },
  {
   "cell_type": "code",
   "execution_count": 7,
   "id": "a26f573d-209e-480b-8e63-089f9940cff6",
   "metadata": {},
   "outputs": [
    {
     "name": "stdin",
     "output_type": "stream",
     "text": [
      "Enter your current age:  25\n"
     ]
    },
    {
     "name": "stdout",
     "output_type": "stream",
     "text": [
      "In 10 years, you will be 35 years old.\n"
     ]
    }
   ],
   "source": [
    "# Calculate the user's age in 10 years\n",
    "age = int(input(\"Enter your current age: \"))\n",
    "age_in_10_years = age + 10\n",
    "print(f\"In 10 years, you will be {age_in_10_years} years old.\")\n",
    "\n"
   ]
  },
  {
   "cell_type": "code",
   "execution_count": 8,
   "id": "a2628cc4-4112-4653-ae3d-5a08fb667a25",
   "metadata": {},
   "outputs": [
    {
     "name": "stdin",
     "output_type": "stream",
     "text": [
      "Enter the number of minutes:  12\n"
     ]
    },
    {
     "name": "stdout",
     "output_type": "stream",
     "text": [
      "12 minutes is 720 seconds.\n"
     ]
    }
   ],
   "source": [
    "# Convert minutes to seconds\n",
    "minutes = int(input(\"Enter the number of minutes: \"))\n",
    "seconds = minutes * 60\n",
    "print(f\"{minutes} minutes is {seconds} seconds.\")\n"
   ]
  },
  {
   "cell_type": "code",
   "execution_count": 11,
   "id": "0c78630b-9db4-491e-ba36-3e6f0d088ab6",
   "metadata": {},
   "outputs": [
    {
     "name": "stdin",
     "output_type": "stream",
     "text": [
      "Enter the first word:  Python\n",
      "Enter the second word:  Fun\n"
     ]
    },
    {
     "name": "stdout",
     "output_type": "stream",
     "text": [
      "The concatenated string is: PythonFun\n"
     ]
    }
   ],
   "source": [
    "# Concatenate two words entered by the user\n",
    "word1 = input(\"Enter the first word: \")\n",
    "word2 = input(\"Enter the second word: \")\n",
    "concatenated = word1 + word2\n",
    "print(f\"The concatenated string is: {concatenated}\")\n"
   ]
  },
  {
   "cell_type": "code",
   "execution_count": 13,
   "id": "0545232d-8fb7-46f5-8ad8-f78c73970ef8",
   "metadata": {},
   "outputs": [
    {
     "name": "stdin",
     "output_type": "stream",
     "text": [
      "Enter the distance in kilometers:  5.8\n"
     ]
    },
    {
     "name": "stdout",
     "output_type": "stream",
     "text": [
      "5.8 kilometers is 5800.0 meters.\n"
     ]
    }
   ],
   "source": [
    "# Convert kilometers to meters\n",
    "kilometers = float(input(\"Enter the distance in kilometers: \"))\n",
    "meters = kilometers * 1000\n",
    "print(f\"{kilometers} kilometers is {meters} meters.\")\n"
   ]
  },
  {
   "cell_type": "code",
   "execution_count": 14,
   "id": "3181eecb-b7d1-4169-9bf7-edc7ec98afbc",
   "metadata": {},
   "outputs": [
    {
     "name": "stdin",
     "output_type": "stream",
     "text": [
      "Enter the first number:  4\n",
      "Enter the second number:  8\n",
      "Enter the third number:  12\n"
     ]
    },
    {
     "name": "stdout",
     "output_type": "stream",
     "text": [
      "The sum of the three numbers is 24.\n"
     ]
    }
   ],
   "source": [
    "# Sum of three numbers input by the user\n",
    "num1 = int(input(\"Enter the first number: \"))\n",
    "num2 = int(input(\"Enter the second number: \"))\n",
    "num3 = int(input(\"Enter the third number: \"))\n",
    "total = num1 + num2 + num3\n",
    "print(f\"The sum of the three numbers is {total}.\")\n",
    "\n",
    "\n"
   ]
  },
  {
   "cell_type": "code",
   "execution_count": 16,
   "id": "c4fe1540-48b1-4695-a01e-c32b9acc0a47",
   "metadata": {},
   "outputs": [
    {
     "name": "stdin",
     "output_type": "stream",
     "text": [
      "Enter your favorite food:  DalMakhini&Rice,PaavBaahji,CurdPotato&Puri\n"
     ]
    },
    {
     "name": "stdout",
     "output_type": "stream",
     "text": [
      "Your favorite food is DalMakhini&Rice,PaavBaahji,CurdPotato&Puri.\n"
     ]
    }
   ],
   "source": [
    "# Ask the user for their favorite food and print it\n",
    "favorite_food = input(\"Enter your favorite food: \")\n",
    "print(f\"Your favorite food is {favorite_food}.\")\n"
   ]
  },
  {
   "cell_type": "code",
   "execution_count": 17,
   "id": "11bc8d6f-ea1e-4b95-8457-aa2884525463",
   "metadata": {},
   "outputs": [
    {
     "name": "stdin",
     "output_type": "stream",
     "text": [
      "Enter a number:  198\n"
     ]
    },
    {
     "name": "stdout",
     "output_type": "stream",
     "text": [
      "Double of 198 is 396.\n"
     ]
    }
   ],
   "source": [
    "# Double the number input by the user\n",
    "number = int(input(\"Enter a number: \"))\n",
    "double = number * 2\n",
    "print(f\"Double of {number} is {double}.\")\n"
   ]
  },
  {
   "cell_type": "code",
   "execution_count": 18,
   "id": "d0093b13-0204-4f97-a2a6-c4052cb06cb7",
   "metadata": {},
   "outputs": [
    {
     "name": "stdin",
     "output_type": "stream",
     "text": [
      "Enter your username:  SakshiTanwar\n"
     ]
    },
    {
     "name": "stdout",
     "output_type": "stream",
     "text": [
      "Welcome, SakshiTanwar!\n"
     ]
    }
   ],
   "source": [
    "# Ask the user for their username and print a welcome message\n",
    "username = input(\"Enter your username: \")\n",
    "print(f\"Welcome, {username}!\")\n"
   ]
  },
  {
   "cell_type": "code",
   "execution_count": 20,
   "id": "0c0e80c6-82d5-4507-8572-a4fb1cb7f13f",
   "metadata": {},
   "outputs": [
    {
     "name": "stdin",
     "output_type": "stream",
     "text": [
      "Enter your weight in kg:  48\n",
      "Enter your height in meters:  0.1143\n"
     ]
    },
    {
     "name": "stdout",
     "output_type": "stream",
     "text": [
      "Your BMI is 3674.08\n"
     ]
    }
   ],
   "source": [
    "# BMI Calculator\n",
    "weight = float(input(\"Enter your weight in kg: \"))\n",
    "height = float(input(\"Enter your height in meters: \"))\n",
    "\n",
    "bmi = weight / (height ** 2)\n",
    "print(f\"Your BMI is {bmi:.2f}\")\n"
   ]
  },
  {
   "cell_type": "code",
   "execution_count": 21,
   "id": "f998269b-684c-44f0-83fd-1c2ee40cf541",
   "metadata": {},
   "outputs": [
    {
     "name": "stdin",
     "output_type": "stream",
     "text": [
      "Enter the coefficient a:  123\n",
      "Enter the coefficient b:  234\n",
      "Enter the coefficient c:  45\n"
     ]
    },
    {
     "name": "stdout",
     "output_type": "stream",
     "text": [
      "The roots are -0.21707722227841894 and -1.6853618021118248.\n"
     ]
    }
   ],
   "source": [
    "# Quadratic equation solver\n",
    "import math\n",
    "\n",
    "a = float(input(\"Enter the coefficient a: \"))\n",
    "b = float(input(\"Enter the coefficient b: \"))\n",
    "c = float(input(\"Enter the coefficient c: \"))\n",
    "\n",
    "# Calculate the discriminant\n",
    "discriminant = b**2 - 4*a*c\n",
    "\n",
    "if discriminant > 0:\n",
    "    root1 = (-b + math.sqrt(discriminant)) / (2 * a)\n",
    "    root2 = (-b - math.sqrt(discriminant)) / (2 * a)\n",
    "    print(f\"The roots are {root1} and {root2}.\")\n",
    "elif discriminant == 0:\n",
    "    root = -b / (2 * a)\n",
    "    print(f\"The root is {root}.\")\n",
    "else:\n",
    "    print(\"There are no real roots.\")\n"
   ]
  },
  {
   "cell_type": "code",
   "execution_count": 22,
   "id": "66740ea9-b6e9-40f1-8a64-9efd512f26a7",
   "metadata": {},
   "outputs": [
    {
     "name": "stdin",
     "output_type": "stream",
     "text": [
      "Enter a password:  Tanwar@4598\n"
     ]
    },
    {
     "name": "stdout",
     "output_type": "stream",
     "text": [
      "Strong password.\n"
     ]
    }
   ],
   "source": [
    "# Password strength checker\n",
    "password = input(\"Enter a password: \")\n",
    "\n",
    "if len(password) >= 8 and any(char.isdigit() for char in password) and any(char.isalpha() for char in password):\n",
    "    print(\"Strong password.\")\n",
    "else:\n",
    "    print(\"Weak password. It should be at least 8 characters long, with letters and numbers.\")\n"
   ]
  },
  {
   "cell_type": "code",
   "execution_count": 23,
   "id": "dc75785c-357a-4d8f-8cef-b7b53c19c1c0",
   "metadata": {},
   "outputs": [
    {
     "name": "stdin",
     "output_type": "stream",
     "text": [
      "Enter a number:  9\n"
     ]
    },
    {
     "name": "stdout",
     "output_type": "stream",
     "text": [
      "The factorial of 9 is 362880.\n"
     ]
    }
   ],
   "source": [
    "# Factorial calculator using a loop\n",
    "number = int(input(\"Enter a number: \"))\n",
    "factorial = 1\n",
    "\n",
    "if number < 0:\n",
    "    print(\"Factorial is not defined for negative numbers.\")\n",
    "elif number == 0:\n",
    "    print(\"The factorial of 0 is 1.\")\n",
    "else:\n",
    "    for i in range(1, number + 1):\n",
    "        factorial *= i\n",
    "    print(f\"The factorial of {number} is {factorial}.\")\n"
   ]
  },
  {
   "cell_type": "code",
   "execution_count": 24,
   "id": "b1eb9094-d654-4de9-b7a6-590c93bdbba6",
   "metadata": {},
   "outputs": [
    {
     "name": "stdin",
     "output_type": "stream",
     "text": [
      "Enter a string:  I told my computer I needed a break, and now it won't stop sending me vacation ads\n"
     ]
    },
    {
     "name": "stdout",
     "output_type": "stream",
     "text": [
      "I told my computer I needed a break, and now it won't stop sending me vacation ads is not a palindrome.\n"
     ]
    }
   ],
   "source": [
    "# Palindrome checker\n",
    "string = input(\"Enter a string: \")\n",
    "\n",
    "if string == string[::-1]:\n",
    "    print(f\"{string} is a palindrome.\")\n",
    "else:\n",
    "    print(f\"{string} is not a palindrome.\")\n"
   ]
  },
  {
   "cell_type": "code",
   "execution_count": null,
   "id": "65fbd298-8210-4543-920b-c3135800bb78",
   "metadata": {},
   "outputs": [
    {
     "name": "stdin",
     "output_type": "stream",
     "text": [
      "Enter key 1:  My cooking is so amazing, even the smoke alarm cheers me on.\n"
     ]
    }
   ],
   "source": [
    "# Input key-value pairs and store them in a dictionary\n",
    "dictionary = {}\n",
    "\n",
    "for i in range(5):\n",
    "    key = input(f\"Enter key {i+1}: \")\n",
    "    value = input(f\"Enter value for {key}: \")\n",
    "    dictionary[key] = value\n",
    "\n",
    "print(f\"The dictionary is: {dictionary}\")\n",
    "\n"
   ]
  },
  {
   "cell_type": "code",
   "execution_count": null,
   "id": "d806d9bf-696f-4561-b1d5-ce9d36c5d9da",
   "metadata": {},
   "outputs": [],
   "source": []
  }
 ],
 "metadata": {
  "kernelspec": {
   "display_name": "Python 3 (ipykernel)",
   "language": "python",
   "name": "python3"
  },
  "language_info": {
   "codemirror_mode": {
    "name": "ipython",
    "version": 3
   },
   "file_extension": ".py",
   "mimetype": "text/x-python",
   "name": "python",
   "nbconvert_exporter": "python",
   "pygments_lexer": "ipython3",
   "version": "3.11.7"
  }
 },
 "nbformat": 4,
 "nbformat_minor": 5
}
